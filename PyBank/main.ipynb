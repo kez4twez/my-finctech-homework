{
 "cells": [
  {
   "cell_type": "code",
   "execution_count": 15,
   "metadata": {
    "tags": []
   },
   "outputs": [
    {
     "name": "stdout",
     "output_type": "stream",
     "text": [
      "Financial Analysis\n",
      "---------\n",
      "Total months: 86\n",
      "Total profit/loss: $38382578\n",
      "---------\n",
      "Largest increase in profits: Feb-2012 $1926159\n",
      "Largest decrease in profits: Sep-2013 $-2196167\n",
      "Average change: $-2315.12\n"
     ]
    }
   ],
   "source": [
    "# Import the pathlib and csv library\n",
    "from pathlib import Path\n",
    "import csv\n",
    "from numpy import mean\n",
    "\n",
    "# Set the filepath \n",
    "csv_path = Path('Resources/budget_data.csv')\n",
    "\n",
    "# Initialise data[] and monthly_change_dict{} to later store budget_data.csv\n",
    "data = []\n",
    "monthly_change_dict = {}\n",
    "\n",
    "# Initialise variables to be used in later loops\n",
    "total_months = 0\n",
    "net_pl = 0\n",
    "avg_change = 0\n",
    "largest_increase = 0\n",
    "largest_increase_key = 0\n",
    "largest_decrease = 0\n",
    "largest_decrease_key = 0\n",
    "\n",
    "# Open the csv file as an object\n",
    "with open (csv_path, 'r') as file:\n",
    "    \n",
    "    # Pass in the csv file to the csv.reader() function\n",
    "    csv_reader = csv.reader(file, delimiter=',')\n",
    "    \n",
    "    # Read the header\n",
    "    header = next(csv_reader)\n",
    "    \n",
    "    # Loop over the data to calculate total_months, net_pl, avg_change, largest_increase, largest_decrease\n",
    "    for row in csv_reader:\n",
    "        # Calculate total months\n",
    "        total_months += 1\n",
    "        # Calculate net_pl\n",
    "        net_pl += int(row[1])\n",
    "        # Take all months and corresponding PL and put into a list data[]\n",
    "        data.append(row)\n",
    "\n",
    "# Loop through data to calculate MoM change and store in monthly_change_dict{} so that greatest_increase and greatest_decrease can be printed with their corresponding months\n",
    "for i in range(len(data)):\n",
    "    change = 0\n",
    "    if i > 0:\n",
    "        change = int(data[i][1]) - int(data[i-1][1])\n",
    "        monthly_change_dict[data[i][0]] = change    \n",
    "        \n",
    "# Declare total change variable to store the sum of all of the MoM changes to later work out the avg_change      \n",
    "total_change = 0\n",
    "        \n",
    "# Calculate largest_increase and largest_decrease from monthly_change_dict so you can print month and corresponding value\n",
    "for month, change in monthly_change_dict.items():\n",
    "    total_change += change\n",
    "    if largest_decrease == 0:\n",
    "        largest_decrease = change\n",
    "    elif change < largest_decrease:\n",
    "        largest_decrease = change\n",
    "        largest_decrease_key = month\n",
    "    if largest_increase == 0:\n",
    "        largest_increase = change\n",
    "    elif change > largest_increase:\n",
    "        largest_increase = change\n",
    "        largest_increase_key = month\n",
    "\n",
    "    \n",
    "# Calulate the average MoM change and store in avg_change variable\n",
    "avg_change = round(total_change / len(monthly_change_dict),2)\n",
    "\n",
    "output_file_path = Path(\"output.txt\")\n",
    "\n",
    "with open (output_file_path, 'w') as file:\n",
    "    file.write(f\"Financial Analysis\\n--------\\nTotal months: {total_months}\\nTotal profit/loss: ${net_pl}\\n--------\\nLargest increase in profits: {largest_increase_key} ${largest_increase}\\nLargest decrease in profits: {largest_decrease_key} ${largest_decrease}\\nAverage change: ${round(avg_change, 2)}\")\n",
    "    \n",
    "# Printing of all figures formatted\n",
    "print (\"Financial Analysis\")\n",
    "print (\"---------\")\n",
    "print (f\"Total months: {total_months}\")\n",
    "print (f\"Total profit/loss: ${net_pl}\")\n",
    "\n",
    "print (\"---------\")\n",
    "print (f\"Largest increase in profits: {largest_increase_key} ${largest_increase}\")\n",
    "print (f\"Largest decrease in profits: {largest_decrease_key} ${largest_decrease}\")\n",
    "print (f\"Average change: ${round(avg_change, 2)}\")"
   ]
  },
  {
   "cell_type": "code",
   "execution_count": null,
   "metadata": {},
   "outputs": [],
   "source": []
  }
 ],
 "metadata": {
  "kernelspec": {
   "display_name": "Python 3",
   "language": "python",
   "name": "python3"
  },
  "language_info": {
   "codemirror_mode": {
    "name": "ipython",
    "version": 3
   },
   "file_extension": ".py",
   "mimetype": "text/x-python",
   "name": "python",
   "nbconvert_exporter": "python",
   "pygments_lexer": "ipython3",
   "version": "3.7.10"
  }
 },
 "nbformat": 4,
 "nbformat_minor": 4
}
